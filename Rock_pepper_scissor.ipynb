{
 "cells": [
  {
   "cell_type": "code",
   "execution_count": 23,
   "id": "c8f70607",
   "metadata": {},
   "outputs": [],
   "source": [
    "import random "
   ]
  },
  {
   "cell_type": "code",
   "execution_count": 34,
   "id": "9615d1db",
   "metadata": {},
   "outputs": [
    {
     "name": "stdout",
     "output_type": "stream",
     "text": [
      "Type Rock/paper/scissor or q for quit: rock\n",
      "computer pick:  paper .\n",
      "computer won!\n",
      "Type Rock/paper/scissor or q for quit: paper\n",
      "computer pick:  scissor .\n",
      "computer won!\n",
      "Type Rock/paper/scissor or q for quit: rock\n",
      "computer pick:  scissor .\n",
      "you won!\n",
      "Type Rock/paper/scissor or q for quit: q\n",
      "you'r won  1  times.\n",
      "computer won  2  times.\n",
      "Thank you for playing the game!\n"
     ]
    }
   ],
   "source": [
    "computer_win = 0\n",
    "user_win = 0\n",
    "\n",
    "options = [\"rock\",\"paper\",\"scissor\"]\n",
    "\n",
    "while True:\n",
    "    \n",
    "    user_input = input(\"Type Rock/paper/scissor or q for quit: \").lower()\n",
    "    \n",
    "    if user_input == \"q\":\n",
    "        break\n",
    "        \n",
    "    if user_input not in options:\n",
    "        continue\n",
    "        \n",
    "    random_number = random.randint(0,2)\n",
    "    #rock is 0, Paper is 1, scissor is 2\n",
    "    \n",
    "    computer_pick = options[random_number]\n",
    "    \n",
    "    print('computer pick: ',computer_pick,\".\")\n",
    "    \n",
    "    if user_input == \"rock\" and computer_pick == \"scissor\":\n",
    "        print(\"you won!\")\n",
    "        user_win += 1\n",
    "        \n",
    "    elif user_input == \"scissor\" and computer_pick == \"paper\":\n",
    "        print(\"you won!\")\n",
    "        user_win += 1        \n",
    "    elif user_input == \"paper\" and computer_pick == \"rock\":\n",
    "        print(\"you won!\")\n",
    "        user_win += 1\n",
    "    elif user_input == computer_pick:\n",
    "        print(\"tie!\")\n",
    "    else:\n",
    "        print(\"computer won!\")\n",
    "        computer_win += 1\n",
    "\n",
    "print(\"you'r won \",user_win,\" times.\")\n",
    "print(\"computer won \",computer_win,\" times.\")\n",
    "print(\"Thank you for playing the game!\")\n",
    "        \n",
    "    \n",
    "    "
   ]
  },
  {
   "cell_type": "code",
   "execution_count": null,
   "id": "39c48fee",
   "metadata": {},
   "outputs": [],
   "source": []
  }
 ],
 "metadata": {
  "kernelspec": {
   "display_name": "Python 3 (ipykernel)",
   "language": "python",
   "name": "python3"
  },
  "language_info": {
   "codemirror_mode": {
    "name": "ipython",
    "version": 3
   },
   "file_extension": ".py",
   "mimetype": "text/x-python",
   "name": "python",
   "nbconvert_exporter": "python",
   "pygments_lexer": "ipython3",
   "version": "3.11.7"
  }
 },
 "nbformat": 4,
 "nbformat_minor": 5
}
